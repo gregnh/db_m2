{
 "cells": [
  {
   "cell_type": "code",
   "execution_count": 12,
   "metadata": {},
   "outputs": [],
   "source": [
    "import sqlite3 as sqlite\n",
    "\n",
    "conn = sqlite.connect(\"project_db.db\")\n",
    "cur = conn.cursor()"
   ]
  },
  {
   "cell_type": "markdown",
   "metadata": {},
   "source": [
    "## Creating the DB"
   ]
  },
  {
   "cell_type": "code",
   "execution_count": 17,
   "metadata": {},
   "outputs": [
    {
     "name": "stdout",
     "output_type": "stream",
     "text": [
      "drop_news\n",
      "create_news\n",
      "drop_label\n",
      "create_label\n",
      "drop_users\n",
      "create_users\n",
      "drop_followers\n",
      "create_followers\n",
      "drop_propagation\n",
      "create_propagation\n"
     ]
    }
   ],
   "source": [
    "queries_dict = {\n",
    "    \"drop_news\": \"\"\"DROP TABLE IF EXISTS news\"\"\",\n",
    "    \"create_news\": \"\"\"\n",
    "    CREATE TABLE news (\n",
    "    newsId INTEGER(3),\n",
    "    newsTitle VARCHAR(173),\n",
    "    newsText TEXT,\n",
    "    CONSTRAINT pk_news PRIMARY KEY (newsId)\n",
    "    )\n",
    "    \"\"\",\n",
    "    \"drop_label\": \"DROP TABLE IF EXISTS label\",\n",
    "    \"create_label\": \"\"\"\n",
    "    CREATE TABLE label (\n",
    "    newsId INTEGER(3),\n",
    "    label BOOLEAN,\n",
    "    CONSTRAINT pk_label PRIMARY KEY (newsId),\n",
    "    CONSTRAINT fk_label_news FOREIGN KEY (newsId) \n",
    "                             REFERENCES news(newsId)\n",
    "    )\"\"\",\n",
    "    \"drop_users\": \"DROP TABLE IF EXISTS users\",\n",
    "    \"create_users\": \"\"\"\n",
    "    CREATE TABLE users (\n",
    "    userId INTEGER(5),\n",
    "    CONSTRAINT pk_users PRIMARY KEY (userId)\n",
    "    )\"\"\",\n",
    "    \"drop_followers\": \"DROP TABLE IF EXISTS followers\",\n",
    "    \"create_followers\": \"\"\"\n",
    "    CREATE TABLE followers (\n",
    "    userId INTEGER(5),\n",
    "    userId_followed INTEGER(5),\n",
    "    CONSTRAINT pk_followers PRIMARY KEY (userId, userId_followed),\n",
    "    CONSTRAINT fk_followers_users FOREIGN KEY (userId) REFERENCES users(userId),\n",
    "    CONSTRAINT fk_following_users FOREIGN KEY (userId_followed) REFERENCES users(userId)\n",
    "    )\n",
    "    \"\"\",\n",
    "    \"drop_propagation\": \"DROP TABLE IF EXISTS propagation\",\n",
    "    \"create_propagation\": \"\"\"\n",
    "    CREATE TABLE propagation (\n",
    "    newsId INTEGER(3),\n",
    "    userId INTEGER(5),\n",
    "    propaCount INTEGER(2),\n",
    "    CONSTRAINT pk_propagation PRIMARY KEY (newsId, userId),\n",
    "    CONSTRAINT fk_propagation_news FOREIGN KEY (newsId) REFERENCES news(newsId),\n",
    "    CONSTRAINT fk_propagation_users FOREIGN KEY (userId) REFERENCES users(userId) \n",
    "    )\"\"\"\n",
    "}\n",
    "\n",
    "# Run all queries\n",
    "for action, query in queries_dict.items():\n",
    "    print(action)\n",
    "    cur.execute(query)"
   ]
  },
  {
   "cell_type": "code",
   "execution_count": null,
   "metadata": {},
   "outputs": [],
   "source": [
    "# Close the connection\n",
    "conn.close()"
   ]
  }
 ],
 "metadata": {
  "jupytext": {},
  "kernelspec": {
   "display_name": "Python 3",
   "language": "python",
   "name": "python3"
  },
  "language_info": {
   "codemirror_mode": {
    "name": "ipython",
    "version": 3
   },
   "file_extension": ".py",
   "mimetype": "text/x-python",
   "name": "python",
   "nbconvert_exporter": "python",
   "pygments_lexer": "ipython3",
   "version": "3.7.1"
  }
 },
 "nbformat": 4,
 "nbformat_minor": 2
}
